{
 "cells": [
  {
   "cell_type": "code",
   "execution_count": 42,
   "metadata": {},
   "outputs": [],
   "source": [
    "def read(file=\"input.txt\"):\n",
    "    reg = [0, 0, 0]\n",
    "    with open(file) as f:\n",
    "        reg[0] = int(f.readline().strip()[12:])\n",
    "        reg[1] = int(f.readline().strip()[12:])\n",
    "        reg[2] = int(f.readline().strip()[12:])\n",
    "        f.readline()\n",
    "        program = [int(a) for a in f.readline().strip()[9:].split(\",\")]\n",
    "    return reg, program\n",
    "\n",
    "\n",
    "def combo(op, reg):\n",
    "    if op < 4:\n",
    "        return op\n",
    "    elif op != 7:\n",
    "        return reg[op - 4]"
   ]
  },
  {
   "cell_type": "code",
   "execution_count": 43,
   "metadata": {},
   "outputs": [
    {
     "name": "stdout",
     "output_type": "stream",
     "text": [
      "[0, 3, 5, 4, 3, 0]\n"
     ]
    }
   ],
   "source": [
    "# Q1\n",
    "reg, program = read()\n",
    "ins_idx = 0\n",
    "res = []\n",
    "while ins_idx < len(program):\n",
    "    ins = program[ins_idx]\n",
    "    op = program[ins_idx + 1]\n",
    "    if ins == 0:\n",
    "        reg[0] //= 2 ** combo(op, reg)\n",
    "    elif ins == 1:\n",
    "        reg[1] ^= op\n",
    "    elif ins == 2:\n",
    "        reg[1] = combo(op, reg) % 8\n",
    "    elif ins == 3:\n",
    "        if reg[0] != 0:\n",
    "            ins_idx = op\n",
    "            continue\n",
    "    elif ins == 4:\n",
    "        reg[1] ^= reg[2]\n",
    "    elif ins == 5:\n",
    "        res.append(combo(op, reg) % 8)\n",
    "    elif ins == 6:\n",
    "        reg[1] = reg[0] // 2 ** combo(op, reg)\n",
    "    elif ins == 7:\n",
    "        reg[2] = reg[0] // 2 ** combo(op, reg)\n",
    "    ins_idx += 2\n",
    "print(res)"
   ]
  },
  {
   "cell_type": "code",
   "execution_count": 91,
   "metadata": {},
   "outputs": [
    {
     "name": "stdout",
     "output_type": "stream",
     "text": [
      "247839653009594\n"
     ]
    }
   ],
   "source": [
    "def run(a, reg, program):\n",
    "    ins_idx = 0\n",
    "    res = []\n",
    "    reg[0] = a\n",
    "    while ins_idx < len(program):\n",
    "        ins = program[ins_idx]\n",
    "        op = program[ins_idx + 1]\n",
    "        if ins == 0:\n",
    "            reg[0] //= 2 ** combo(op, reg)\n",
    "        elif ins == 1:\n",
    "            reg[1] ^= op\n",
    "        elif ins == 2:\n",
    "            reg[1] = combo(op, reg) % 8\n",
    "        elif ins == 3:\n",
    "            if reg[0] != 0:\n",
    "                ins_idx = op\n",
    "                continue\n",
    "        elif ins == 4:\n",
    "            reg[1] ^= reg[2]\n",
    "        elif ins == 5:\n",
    "            res.append(combo(op, reg) % 8)\n",
    "        elif ins == 6:\n",
    "            reg[1] = reg[0] // 2 ** combo(op, reg)\n",
    "        elif ins == 7:\n",
    "            reg[2] = reg[0] // 2 ** combo(op, reg)\n",
    "        ins_idx += 2\n",
    "    return res\n",
    "\n",
    "\n",
    "a = 0\n",
    "reg, program = read()\n",
    "for i in range(len(program)):\n",
    "    a <<= 3\n",
    "    while run(a, reg, program) != program[len(program) - i - 1 :]:\n",
    "        a += 1\n",
    "print(a)"
   ]
  }
 ],
 "metadata": {
  "kernelspec": {
   "display_name": "utils",
   "language": "python",
   "name": "python3"
  },
  "language_info": {
   "codemirror_mode": {
    "name": "ipython",
    "version": 3
   },
   "file_extension": ".py",
   "mimetype": "text/x-python",
   "name": "python",
   "nbconvert_exporter": "python",
   "pygments_lexer": "ipython3",
   "version": "3.13.0"
  }
 },
 "nbformat": 4,
 "nbformat_minor": 2
}
