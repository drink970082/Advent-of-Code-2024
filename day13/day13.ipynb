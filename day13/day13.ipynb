{
 "cells": [
  {
   "cell_type": "code",
   "execution_count": 74,
   "metadata": {},
   "outputs": [],
   "source": [
    "import numpy as np\n",
    "\n",
    "\n",
    "def solver(shift):\n",
    "    token = 0\n",
    "    with open(\"input.txt\") as f:\n",
    "        while True:\n",
    "            x1, y1 = f.readline().strip()[10:].split(\", \")\n",
    "            x2, y2 = f.readline().strip()[10:].split(\", \")\n",
    "            px, py = f.readline().strip()[7:].split(\", \")\n",
    "            A = np.array([[int(x1[2:]), int(x2[2:])], [int(y1[2:]), int(y2[2:])]])\n",
    "            b = np.array([int(px[2:]) + shift, int(py[2:]) + shift])\n",
    "            x = np.linalg.solve(A, b)\n",
    "            if np.allclose(x, np.round(x)) and np.all(x >= 0) and np.all(np.dot(A, np.round(x)) == b):\n",
    "                token += np.sum(np.round(x).astype(int) * [3, 1])\n",
    "            line = f.readline()\n",
    "            if not line:\n",
    "                break\n",
    "\n",
    "    print(token)"
   ]
  },
  {
   "cell_type": "code",
   "execution_count": 75,
   "metadata": {},
   "outputs": [
    {
     "name": "stdout",
     "output_type": "stream",
     "text": [
      "37901\n"
     ]
    }
   ],
   "source": [
    "# Q1\n",
    "solver(0)"
   ]
  },
  {
   "cell_type": "code",
   "execution_count": 76,
   "metadata": {},
   "outputs": [
    {
     "name": "stdout",
     "output_type": "stream",
     "text": [
      "77407675412647\n"
     ]
    }
   ],
   "source": [
    "# Q2\n",
    "solver(10000000000000)"
   ]
  }
 ],
 "metadata": {
  "kernelspec": {
   "display_name": "utils",
   "language": "python",
   "name": "python3"
  },
  "language_info": {
   "codemirror_mode": {
    "name": "ipython",
    "version": 3
   },
   "file_extension": ".py",
   "mimetype": "text/x-python",
   "name": "python",
   "nbconvert_exporter": "python",
   "pygments_lexer": "ipython3",
   "version": "3.13.0"
  }
 },
 "nbformat": 4,
 "nbformat_minor": 2
}
