{
 "cells": [
  {
   "cell_type": "code",
   "execution_count": 1,
   "metadata": {},
   "outputs": [],
   "source": [
    "with open(\"input.txt\") as f:\n",
    "    lst = f.readlines()\n",
    "lst = [x.strip() for x in lst]"
   ]
  },
  {
   "cell_type": "code",
   "execution_count": null,
   "metadata": {},
   "outputs": [
    {
     "name": "stdout",
     "output_type": "stream",
     "text": [
      "2532\n"
     ]
    }
   ],
   "source": [
    "# Q1\n",
    "target = \"XMAS\"\n",
    "directions = [(1, 0), (-1, 0), (0, 1), (0, -1), (1, 1), (-1, -1), (-1, 1), (1, -1)]\n",
    "\n",
    "\n",
    "def find(lst, idx, x, y, dx, dy):\n",
    "    if idx == len(target):\n",
    "        return True\n",
    "    if x < 0 or x >= len(lst) or y < 0 or y >= len(lst[0]):\n",
    "        return False\n",
    "\n",
    "    if lst[x][y] == target[idx] and find(lst, idx + 1, x + dx, y + dy, dx, dy):\n",
    "        return True\n",
    "    return False\n",
    "\n",
    "\n",
    "sum = 0\n",
    "for i in range(len(lst)):\n",
    "    for j in range(len(lst[i])):\n",
    "        for dx, dy in directions:\n",
    "            if find(lst, 0, i, j, dx, dy):\n",
    "                sum += 1\n",
    "print(sum)"
   ]
  },
  {
   "cell_type": "code",
   "execution_count": null,
   "metadata": {},
   "outputs": [
    {
     "name": "stdout",
     "output_type": "stream",
     "text": [
      "1941\n"
     ]
    }
   ],
   "source": [
    "# Q2\n",
    "target = \"MAS\"\n",
    "directions = [(1, 1), (-1, -1), (-1, 1), (1, -1)]\n",
    "counter = [[0 for i in range(len(lst[0]))] for j in range(len(lst))]\n",
    "\n",
    "\n",
    "def find(lst, idx, x, y, dx, dy):\n",
    "    if idx == len(target):\n",
    "        return True\n",
    "    if x < 0 or x >= len(lst) or y < 0 or y >= len(lst[0]):\n",
    "        return False\n",
    "\n",
    "    if lst[x][y] == target[idx] and find(lst, idx + 1, x + dx, y + dy, dx, dy):\n",
    "        counter[x][y] += 1\n",
    "        return True\n",
    "    return False\n",
    "\n",
    "\n",
    "for i in range(len(lst)):\n",
    "    for j in range(len(lst[i])):\n",
    "        for dx, dy in directions:\n",
    "            find(lst, 0, i, j, dx, dy)\n",
    "sum = 0\n",
    "for i in range(len(lst)):\n",
    "    for j in range(len(lst[i])):\n",
    "        if lst[i][j] == \"A\" and counter[i][j] == 2:\n",
    "            sum += 1\n",
    "print(sum)"
   ]
  }
 ],
 "metadata": {
  "kernelspec": {
   "display_name": "utils",
   "language": "python",
   "name": "python3"
  },
  "language_info": {
   "codemirror_mode": {
    "name": "ipython",
    "version": 3
   },
   "file_extension": ".py",
   "mimetype": "text/x-python",
   "name": "python",
   "nbconvert_exporter": "python",
   "pygments_lexer": "ipython3",
   "version": "3.13.0"
  }
 },
 "nbformat": 4,
 "nbformat_minor": 2
}
