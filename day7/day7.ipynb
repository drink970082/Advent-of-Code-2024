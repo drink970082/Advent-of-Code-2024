{
 "cells": [
  {
   "cell_type": "code",
   "execution_count": 1,
   "metadata": {},
   "outputs": [],
   "source": [
    "from itertools import combinations_with_replacement, permutations\n",
    "from tqdm import tqdm\n",
    "from multiprocessing import Pool, cpu_count\n",
    "eqs = dict()\n",
    "with open(\"input.txt\") as f:\n",
    "    while line := f.readline():\n",
    "        target, cand = line.strip().split(\":\")\n",
    "        target = int(target)\n",
    "        cand = [int(c) for c in cand.strip().split(\" \")]\n",
    "        eqs[target] = cand\n"
   ]
  },
  {
   "cell_type": "code",
   "execution_count": 2,
   "metadata": {},
   "outputs": [],
   "source": [
    "def eval_exp(total, cand, exp):\n",
    "    if exp == \"+\":\n",
    "        total += cand\n",
    "    elif exp == \"*\":\n",
    "        total *= cand\n",
    "    elif exp == \"||\":\n",
    "        total = int(str(total) + str(cand))\n",
    "    return total\n",
    "\n",
    "\n",
    "def dfs(total, cand, cand_idx, target, exps):\n",
    "    if total > target:\n",
    "        return False\n",
    "    if cand_idx >= len(cand):\n",
    "        if total == target:\n",
    "            return True\n",
    "        return False\n",
    "    for e in exps:\n",
    "        if dfs(eval_exp(total, cand[cand_idx], e), cand, cand_idx + 1, target, exps):\n",
    "            return True\n",
    "    return False"
   ]
  },
  {
   "cell_type": "code",
   "execution_count": null,
   "metadata": {},
   "outputs": [
    {
     "name": "stdout",
     "output_type": "stream",
     "text": [
      "Calibration: 10741443549536\n"
     ]
    }
   ],
   "source": [
    "# Q1\n",
    "results = 0\n",
    "for target, cand in eqs.items():\n",
    "    if dfs(0, cand, 0, target, [\"+\", \"*\"]):\n",
    "        results += target\n",
    "print(\"Calibration:\", results)"
   ]
  },
  {
   "cell_type": "code",
   "execution_count": null,
   "metadata": {},
   "outputs": [
    {
     "name": "stdout",
     "output_type": "stream",
     "text": [
      "Calibration: 500335179214836\n"
     ]
    }
   ],
   "source": [
    "# Q2\n",
    "results = 0\n",
    "for target, cand in eqs.items():\n",
    "    if dfs(0, cand, 0, target, [\"+\", \"*\", \"||\"]):\n",
    "        results += target\n",
    "print(\"Calibration:\", results)"
   ]
  },
  {
   "cell_type": "code",
   "execution_count": null,
   "metadata": {},
   "outputs": [],
   "source": []
  }
 ],
 "metadata": {
  "kernelspec": {
   "display_name": "utils",
   "language": "python",
   "name": "python3"
  },
  "language_info": {
   "codemirror_mode": {
    "name": "ipython",
    "version": 3
   },
   "file_extension": ".py",
   "mimetype": "text/x-python",
   "name": "python",
   "nbconvert_exporter": "python",
   "pygments_lexer": "ipython3",
   "version": "3.13.0"
  }
 },
 "nbformat": 4,
 "nbformat_minor": 2
}
