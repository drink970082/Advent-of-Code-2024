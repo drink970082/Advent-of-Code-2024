{
 "cells": [
  {
   "cell_type": "code",
   "execution_count": 5,
   "metadata": {},
   "outputs": [
    {
     "name": "stdout",
     "output_type": "stream",
     "text": [
      "['wbur', 'gurr', 'wrbuu', 'bbrrr', 'gbb', 'uugw', 'rggb', 'wruwur', 'uwrwru', 'gbbwb', 'rr', 'ggb', 'wgub', 'wbuwrugr', 'ubugggb', 'gur', 'wbgrwu', 'bbw', 'guur', 'ubrwubu', 'guuwb', 'uub', 'gbu', 'grguwg', 'wrg', 'gguuw', 'urgbg', 'gubu', 'brbrbw', 'gbg', 'rrub', 'gwb', 'uwu', 'b', 'guwrguu', 'rrrrwg', 'rgwggb', 'wrbbw', 'wbb', 'uww', 'uwww', 'wwbw', 'ggwwbbr', 'u', 'wggbrgw', 'rbr', 'bwwb', 'rguwr', 'gbr', 'gugb', 'rbw', 'rrwburgg', 'uurb', 'wbgbgu', 'urr', 'brwbrr', 'ww', 'uggrrb', 'bgg', 'gwggg', 'wwgbu', 'wgg', 'gwrgwu', 'gwur', 'gguu', 'ruugg', 'grruuwrw', 'wuuu', 'grrbbg', 'rgr', 'wuwrr', 'wwgrgu', 'uurbr', 'brb', 'rwgg', 'ugur', 'ubwu', 'ug', 'buguubrg', 'wgrg', 'rwbuw', 'rgbb', 'uwwu', 'bwrrbb', 'ububru', 'wrw', 'brgwrww', 'bug', 'rgbwb', 'rbgw', 'rgbuuu', 'uruwr', 'ugub', 'bwuwwr', 'ugu', 'rbwru', 'rwg', 'bwu', 'rb', 'gwgrur', 'rgbgwg', 'wur', 'wurg', 'ruw', 'uu', 'wgrgw', 'grrb', 'bbrggwb', 'bwbwg', 'bbu', 'rbuurg', 'bruw', 'wbgggwg', 'ugbb', 'gbugu', 'rwr', 'ggurb', 'bgb', 'wbuwwur', 'rg', 'burbggg', 'rubbrgbu', 'grrruub', 'bwuwb', 'rrgurrw', 'rgrbubw', 'wrww', 'uguuubu', 'uwbb', 'burur', 'grr', 'ub', 'rrruw', 'urg', 'ugbr', 'guwubg', 'wruu', 'wbbwb', 'wgr', 'bgwru', 'rbgb', 'wwur', 'bbur', 'rugggr', 'wggugwu', 'bwbgb', 'urrrgrww', 'ubuuurr', 'wggrr', 'wwgw', 'brr', 'wwbug', 'ubww', 'ggr', 'wwb', 'uru', 'gru', 'uruu', 'gwbg', 'brwr', 'gwugrr', 'wbr', 'urrwur', 'bbrgwg', 'gggg', 'bwug', 'gbrbwugg', 'bgr', 'bugbb', 'wgww', 'bruurb', 'uwgbuw', 'uwrr', 'gww', 'rgub', 'guwbwwuw', 'bbgbbr', 'ruu', 'bguwb', 'gug', 'wgbrbw', 'rwgrgru', 'ububrb', 'wwr', 'grw', 'urb', 'wrrr', 'buuug', 'bur', 'rugwu', 'bw', 'bbuwbwb', 'rrwb', 'rwbb', 'gbugur', 'wuu', 'ugg', 'urgu', 'bbugb', 'buu', 'ruwbb', 'bggbg', 'rgb', 'rruww', 'bgbubwuu', 'wwub', 'rguw', 'gb', 'rgg', 'wwwuuu', 'wgu', 'ggbu', 'guurruu', 'rgu', 'urwuuwb', 'rrwu', 'rbbrbg', 'br', 'ugwgu', 'rrbrwuw', 'gbbuw', 'rrgb', 'uwb', 'uwrgg', 'wrgww', 'guru', 'rbrw', 'ugurgbu', 'bgrr', 'wrrrwubg', 'wbgug', 'rubrwu', 'gguwu', 'wgru', 'wugwgr', 'guu', 'rguu', 'guwwrgg', 'rru', 'wbrbbr', 'wurb', 'gwbwr', 'bww', 'uwwwr', 'bbwgbw', 'rwugu', 'gwug', 'rrr', 'ugbgbbr', 'ugb', 'rrbu', 'rruwrbb', 'rbug', 'uwwuu', 'buwgrr', 'ubwbbgw', 'bugugw', 'wwu', 'uubwwb', 'gbrggwg', 'uwr', 'gbrrr', 'bwrbwu', 'uuuwrur', 'guugu', 'gwu', 'gwbbw', 'buw', 'uw', 'rrwg', 'gugbw', 'rgwuwr', 'wgw', 'gubgu', 'uggbgr', 'bwg', 'grb', 'wbguw', 'wrur', 'wugwg', 'wbug', 'grrbrw', 'wuub', 'uggbuu', 'urbgb', 'w', 'gruwr', 'ruug', 'gurw', 'bwbg', 'rbwgwrww', 'ubw', 'bwb', 'bwurgw', 'rwu', 'ubr', 'ubgw', 'wrb', 'bu', 'brw', 'rw', 'uwrwr', 'wbwug', 'ubrruu', 'rwuw', 'ruuu', 'rbwu', 'uguu', 'rug', 'bwr', 'gg', 'wwg', 'ubu', 'gwubw', 'brg', 'gruwrbrr', 'uuu', 'rbwuubgu', 'wug', 'rwuu', 'uuw', 'gbgw', 'wru', 'ugw', 'bwbgwr', 'uwbwub', 'grbr', 'gwuw', 'rbub', 'urw', 'wr', 'ubb', 'rbb', 'rub', 'ggw', 'uurwg', 'wbg', 'uuruu', 'gr', 'rbwbugg', 'rbg', 'wuwg', 'bub', 'rgw', 'bbb', 'guwb', 'uurgb', 'wwbwguwu', 'rgwgggw', 'bwbr', 'wuw', 'grgrbw', 'rrw', 'wbgur', 'uuww', 'www', 'wrwwbb', 'grrrbgu', 'gubgr', 'ugrwb', 'wgbgwu', 'ubur', 'uur', 'gguwub', 'gu', 'bbww', 'grur', 'bwbbg', 'uuurrgb', 'guuru', 'burb', 'bb', 'gbw', 'bgbwbbur', 'rbu', 'gbrr', 'ru', 'wgrgbu', 'guwuwb', 'gugg', 'wgrgrwu', 'uwg', 'rrggg', 'bgw', 'bbg', 'gwr', 'gugw', 'rubu', 'wu', 'gugu', 'uubu', 'wg', 'rrb', 'wrr', 'uuugbw', 'gub', 'ruwrg', 'ubrwww', 'gwggw', 'ugr', 'rrrrr', 'wbu', 'gwwwurb', 'wrwrgrw', 'wrbbrb', 'rwb', 'grrw', 'urrbwbbu', 'wub', 'gwrbw', 'wuuw', 'wrrrbbbr', 'ggg', 'wurw', 'gbrbw', 'ugrbgwgr', 'guw', 'wugrg', 'wbwrgrg', 'uwrrru', 'rrrgur', 'r', 'bru', 'wgb', 'wbru', 'bgu', 'gw', 'bwrgbgww', 'rwwuw', 'gwrbgbu', 'rwurg', 'gbuwrwg', 'ggu', 'rwug', 'wugrb', 'ubwub', 'bbr', 'uug', 'wwwg', 'grrugug', 'wb', 'grurr', 'rrg', 'gbggg', 'ggrgrwr', 'rrggburu', 'rur']\n"
     ]
    }
   ],
   "source": [
    "def read(file=\"input.txt\"):\n",
    "    with open(file) as f:\n",
    "        towel = f.readline().strip().split(\", \")\n",
    "        f.readline()\n",
    "        designs = [d.strip() for d in f.readlines()]\n",
    "    return towel, designs\n"
   ]
  },
  {
   "cell_type": "code",
   "execution_count": 39,
   "metadata": {},
   "outputs": [
    {
     "data": {
      "text/plain": [
       "350"
      ]
     },
     "execution_count": 39,
     "metadata": {},
     "output_type": "execute_result"
    }
   ],
   "source": [
    "# Q1\n",
    "towel, designs = read(\"input.txt\")\n",
    "\n",
    "\n",
    "def helper(towel, design, dp, i):\n",
    "\n",
    "    if i >= len(design):\n",
    "        return True\n",
    "    if dp[i] is not None:\n",
    "        return dp[i]\n",
    "    for t in towel:\n",
    "        if i + len(t) <= len(design) and design[i : i + len(t)] == t:\n",
    "            if helper(towel, design, dp, i + len(t)):\n",
    "                dp[i] = True\n",
    "                return dp[i]\n",
    "    dp[i] = False\n",
    "    return dp[i]\n",
    "\n",
    "\n",
    "def match(towel, designs):\n",
    "    count = 0\n",
    "    for design in designs:\n",
    "        dp = [None for _ in range(len(design))]\n",
    "        count += int(helper(towel, design, dp, 0))\n",
    "    return count\n",
    "\n",
    "\n",
    "match(towel, designs)"
   ]
  },
  {
   "cell_type": "code",
   "execution_count": 38,
   "metadata": {},
   "outputs": [
    {
     "data": {
      "text/plain": [
       "769668867512623"
      ]
     },
     "execution_count": 38,
     "metadata": {},
     "output_type": "execute_result"
    }
   ],
   "source": [
    "# Q2\n",
    "towel, designs = read(\"input.txt\")\n",
    "\n",
    "\n",
    "def helper(towel, design, dp, i):\n",
    "\n",
    "    if i >= len(design):\n",
    "        return 1\n",
    "    if dp[i] is not None:\n",
    "        return dp[i]\n",
    "    dp[i] = 0\n",
    "    for t in towel:\n",
    "        if i + len(t) <= len(design) and design[i : i + len(t)] == t:\n",
    "            dp[i] += helper(towel, design, dp, i + len(t))\n",
    "    return dp[i]\n",
    "\n",
    "\n",
    "def match(towel, designs):\n",
    "    count = 0\n",
    "    for design in designs:\n",
    "        dp = [None for _ in range(len(design))]\n",
    "        count += helper(towel, design, dp, 0)\n",
    "    return count\n",
    "\n",
    "\n",
    "match(towel, designs)"
   ]
  }
 ],
 "metadata": {
  "kernelspec": {
   "display_name": "utils",
   "language": "python",
   "name": "python3"
  },
  "language_info": {
   "codemirror_mode": {
    "name": "ipython",
    "version": 3
   },
   "file_extension": ".py",
   "mimetype": "text/x-python",
   "name": "python",
   "nbconvert_exporter": "python",
   "pygments_lexer": "ipython3",
   "version": "3.13.0"
  }
 },
 "nbformat": 4,
 "nbformat_minor": 2
}
