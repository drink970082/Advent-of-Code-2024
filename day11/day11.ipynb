{
 "cells": [
  {
   "cell_type": "code",
   "execution_count": 12,
   "metadata": {},
   "outputs": [],
   "source": [
    "from itertools import chain\n",
    "from collections import defaultdict, Counter\n",
    "\n",
    "stones = Counter([5178527, 8525, 22, 376299, 3, 69312, 0, 275])\n",
    "\n",
    "\n",
    "def blink(stone):\n",
    "    if stone == 0:\n",
    "        return (1,)\n",
    "    elif (n := len(str(stone))) & 1 == 0:\n",
    "        mid = 10 ** (n // 2)\n",
    "        return (stone // mid, stone % mid)\n",
    "    else:\n",
    "        return (stone * 2024,)\n",
    "\n",
    "\n",
    "def solve(stones, times):\n",
    "    for _ in range(times):\n",
    "        new_stones = defaultdict(int)\n",
    "        for stone, qty in stones.items():\n",
    "            for new_stone in blink(stone):\n",
    "                new_stones[new_stone] += qty\n",
    "        stones = new_stones\n",
    "    print(sum(stones.values()))"
   ]
  },
  {
   "cell_type": "code",
   "execution_count": 13,
   "metadata": {},
   "outputs": [
    {
     "name": "stdout",
     "output_type": "stream",
     "text": [
      "189547\n"
     ]
    }
   ],
   "source": [
    "# Q1\n",
    "\n",
    "solve(stones, 25)"
   ]
  },
  {
   "cell_type": "code",
   "execution_count": 14,
   "metadata": {},
   "outputs": [
    {
     "name": "stdout",
     "output_type": "stream",
     "text": [
      "224577979481346\n"
     ]
    }
   ],
   "source": [
    "# Q2\n",
    "\n",
    "solve(stones, 75)"
   ]
  }
 ],
 "metadata": {
  "kernelspec": {
   "display_name": "utils",
   "language": "python",
   "name": "python3"
  },
  "language_info": {
   "codemirror_mode": {
    "name": "ipython",
    "version": 3
   },
   "file_extension": ".py",
   "mimetype": "text/x-python",
   "name": "python",
   "nbconvert_exporter": "python",
   "pygments_lexer": "ipython3",
   "version": "3.13.0"
  }
 },
 "nbformat": 4,
 "nbformat_minor": 2
}
