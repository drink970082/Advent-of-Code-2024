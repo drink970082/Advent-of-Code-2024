{
 "cells": [
  {
   "cell_type": "code",
   "execution_count": null,
   "metadata": {},
   "outputs": [],
   "source": [
    "from tqdm import tqdm\n",
    "\n",
    "board = []\n",
    "with open(\"input.txt\") as f:\n",
    "    while line := f.readline():\n",
    "        board.append(list(line.strip()))\n",
    "        for i in range(len(board[-1])):\n",
    "            if board[-1][i] == \"^\":\n",
    "                start_pos = (len(board) - 1, i)\n",
    "\n",
    "\n",
    "def is_out(pos):\n",
    "    return pos[0] < 0 or pos[0] >= len(board) or pos[1] < 0 or pos[1] >= len(board[0])\n",
    "\n",
    "\n",
    "def is_wall(pos):\n",
    "    return board[pos[0]][pos[1]] == \"#\" or board[pos[0]][pos[1]] == \"O\"\n",
    "\n",
    "\n",
    "dir = [(-1, 0), (0, 1), (1, 0), (0, -1)]\n",
    "\n",
    "\n",
    "def solve1():\n",
    "    counter = 0\n",
    "    pos = start_pos\n",
    "    dir_idx = 0\n",
    "    visited = set()\n",
    "    while not is_out(pos):\n",
    "        if is_wall(pos):\n",
    "            pos = (pos[0] - dir[dir_idx][0], pos[1] - dir[dir_idx][1])\n",
    "            dir_idx = (dir_idx + 1) % 4\n",
    "        if pos not in visited:\n",
    "            counter += 1\n",
    "            visited.add(pos)\n",
    "        pos = (pos[0] + dir[dir_idx][0], pos[1] + dir[dir_idx][1])\n",
    "    return counter\n",
    "\n",
    "\n",
    "def solve2():\n",
    "    pos = start_pos\n",
    "    dir_idx = 0\n",
    "    route_set = set()\n",
    "    while not is_out(pos):\n",
    "        if is_wall(pos):\n",
    "            pos = (pos[0] - dir[dir_idx][0], pos[1] - dir[dir_idx][1])\n",
    "            dir_idx = (dir_idx + 1) % 4\n",
    "        if (pos, dir_idx) in route_set:\n",
    "            return False\n",
    "        route_set.add((pos, dir_idx))\n",
    "        pos = (pos[0] + dir[dir_idx][0], pos[1] + dir[dir_idx][1])\n",
    "    return True"
   ]
  },
  {
   "cell_type": "code",
   "execution_count": null,
   "metadata": {},
   "outputs": [
    {
     "name": "stdout",
     "output_type": "stream",
     "text": [
      "4819\n"
     ]
    }
   ],
   "source": [
    "# Q1\n",
    "counter = solve1()\n",
    "print(counter)"
   ]
  },
  {
   "cell_type": "code",
   "execution_count": null,
   "metadata": {},
   "outputs": [],
   "source": [
    "# Q2\n",
    "obstacle = 0\n",
    "for i in tqdm(range(len(board))):\n",
    "    for j in range(len(board[0])):\n",
    "        if board[i][j] == \".\":\n",
    "            board[i][j] = \"#\"\n",
    "            if not solve2():\n",
    "                obstacle += 1\n",
    "            board[i][j] = \".\"\n",
    "print(obstacle)"
   ]
  }
 ],
 "metadata": {
  "kernelspec": {
   "display_name": "utils",
   "language": "python",
   "name": "python3"
  },
  "language_info": {
   "codemirror_mode": {
    "name": "ipython",
    "version": 3
   },
   "file_extension": ".py",
   "mimetype": "text/x-python",
   "name": "python",
   "nbconvert_exporter": "python",
   "pygments_lexer": "ipython3",
   "version": "3.13.0"
  }
 },
 "nbformat": 4,
 "nbformat_minor": 2
}
