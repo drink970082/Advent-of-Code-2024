{
 "cells": [
  {
   "cell_type": "code",
   "execution_count": 68,
   "metadata": {},
   "outputs": [],
   "source": [
    "import numpy as np\n",
    "from numpy.lib.stride_tricks import sliding_window_view\n",
    "from collections import defaultdict\n",
    "\n",
    "\n",
    "def read(file):\n",
    "    with open(file) as f:\n",
    "        nums = [int(x.strip()) for x in f.readlines()]\n",
    "    return nums\n",
    "\n",
    "\n",
    "def calc(num):\n",
    "    num = ((num * 64) ^ num) % 16777216\n",
    "    num = ((num // 32) ^ num) % 16777216\n",
    "    num = ((num * 2048) ^ num) % 16777216\n",
    "    return num"
   ]
  },
  {
   "cell_type": "code",
   "execution_count": 69,
   "metadata": {},
   "outputs": [
    {
     "name": "stdout",
     "output_type": "stream",
     "text": [
      "18525593556\n"
     ]
    }
   ],
   "source": [
    "# Q1\n",
    "nums = read(\"input.txt\")\n",
    "for i in range(len(nums)):\n",
    "    for epoch in range(2000):\n",
    "        nums[i] = calc(nums[i])\n",
    "print(sum(nums))"
   ]
  },
  {
   "cell_type": "code",
   "execution_count": 79,
   "metadata": {},
   "outputs": [
    {
     "name": "stdout",
     "output_type": "stream",
     "text": [
      "2089\n"
     ]
    }
   ],
   "source": [
    "# Q2\n",
    "nums = read(\"input.txt\")\n",
    "prices = np.zeros((len(nums), 2001), dtype=int)\n",
    "for i in range(len(nums)):\n",
    "    prices[i][0] = nums[i] % 10\n",
    "    for epoch in range(2000):\n",
    "        nums[i] = calc(nums[i])\n",
    "        prices[i][epoch + 1] = nums[i] % 10\n",
    "diff = np.diff(prices, axis=1)\n",
    "window_dict = defaultdict(int)\n",
    "for i in range(len(nums)):\n",
    "    window_set = set()\n",
    "    for j, window in enumerate(sliding_window_view(diff[i], 4)):\n",
    "        if (tuple_window := tuple(window)) not in window_set:\n",
    "            window_set.add(tuple_window)\n",
    "            window_dict[tuple(window)] += prices[i][j + 4]\n",
    "print(max(window_dict.values()))"
   ]
  }
 ],
 "metadata": {
  "kernelspec": {
   "display_name": "utils",
   "language": "python",
   "name": "python3"
  },
  "language_info": {
   "codemirror_mode": {
    "name": "ipython",
    "version": 3
   },
   "file_extension": ".py",
   "mimetype": "text/x-python",
   "name": "python",
   "nbconvert_exporter": "python",
   "pygments_lexer": "ipython3",
   "version": "3.13.0"
  }
 },
 "nbformat": 4,
 "nbformat_minor": 2
}
