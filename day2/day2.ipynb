{
 "cells": [
  {
   "cell_type": "code",
   "execution_count": 2,
   "metadata": {},
   "outputs": [],
   "source": [
    "def check_increasing(lst):\n",
    "    start = lst[0]\n",
    "    for x in lst[1:]:\n",
    "        if x <= start or x - start > 3:\n",
    "            return False\n",
    "        start = x\n",
    "    return True\n",
    "\n",
    "\n",
    "def check_decreasing(lst):\n",
    "    start = lst[0]\n",
    "    for x in lst[1:]:\n",
    "        if x >= start or start - x > 3:\n",
    "            return False\n",
    "        start = x\n",
    "    return True\n",
    "\n"
   ]
  },
  {
   "cell_type": "code",
   "execution_count": 4,
   "metadata": {},
   "outputs": [
    {
     "name": "stdout",
     "output_type": "stream",
     "text": [
      "559\n"
     ]
    }
   ],
   "source": [
    "# Q1\n",
    "count = 0\n",
    "with open(\"input.txt\") as f:\n",
    "    while line := f.readline():\n",
    "        lst = [int(x) for x in line.split(\" \")]\n",
    "        if check_increasing(lst) or check_decreasing(lst):\n",
    "            count += 1\n",
    "print(count)"
   ]
  },
  {
   "cell_type": "code",
   "execution_count": null,
   "metadata": {},
   "outputs": [],
   "source": [
    "# Q2\n",
    "count = 0\n",
    "with open(\"input.txt\") as f:\n",
    "    while line := f.readline():\n",
    "        lst = [int(x) for x in line.split(\" \")]\n",
    "        for i in range(len(lst)):\n",
    "            lst_1 = lst[:i] + lst[i + 1 :]\n",
    "            if check_increasing(lst_1) or check_decreasing(lst_1):\n",
    "                count += 1\n",
    "                break\n",
    "print(count)"
   ]
  }
 ],
 "metadata": {
  "kernelspec": {
   "display_name": "utils",
   "language": "python",
   "name": "python3"
  },
  "language_info": {
   "codemirror_mode": {
    "name": "ipython",
    "version": 3
   },
   "file_extension": ".py",
   "mimetype": "text/x-python",
   "name": "python",
   "nbconvert_exporter": "python",
   "pygments_lexer": "ipython3",
   "version": "3.13.0"
  }
 },
 "nbformat": 4,
 "nbformat_minor": 2
}
