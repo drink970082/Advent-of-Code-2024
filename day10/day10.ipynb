{
 "cells": [
  {
   "cell_type": "code",
   "execution_count": null,
   "metadata": {},
   "outputs": [
    {
     "name": "stdout",
     "output_type": "stream",
     "text": [
      "535\n"
     ]
    }
   ],
   "source": [
    "def read(file):\n",
    "    with open(file) as f:\n",
    "        return [[int(y) for y in x] for x in f.read().splitlines()]"
   ]
  },
  {
   "cell_type": "code",
   "execution_count": null,
   "metadata": {},
   "outputs": [],
   "source": [
    "# Q1\n",
    "\n",
    "board = read(\"input.txt\")\n",
    "dp = [[set() for _ in range(len(board[0]))] for _ in range(len(board))]\n",
    "for i in range(len(board)):\n",
    "    for j in range(len(board[0])):\n",
    "        if board[i][j] == 9:\n",
    "            dp[i][j].add((i, j))\n",
    "\n",
    "\n",
    "def dfs(pos_x, pos_y, height):\n",
    "    if board[pos_x][pos_y] != height:\n",
    "        return None\n",
    "    if len(dp[pos_x][pos_y]) > 0:\n",
    "        return dp[pos_x][pos_y]\n",
    "    for dir_x, dir_y in [(0, 1), (1, 0), (0, -1), (-1, 0)]:\n",
    "        new_x, new_y = pos_x + dir_x, pos_y + dir_y\n",
    "        if new_x < 0 or new_x >= len(board) or new_y < 0 or new_y >= len(board[0]):\n",
    "            continue\n",
    "        if res := dfs(new_x, new_y, height + 1):\n",
    "            dp[pos_x][pos_y] |= res\n",
    "    return dp[pos_x][pos_y]\n",
    "\n",
    "\n",
    "scores = 0\n",
    "for i in range(len(board)):\n",
    "    for j in range(len(board[0])):\n",
    "        if res := dfs(i, j, 0):\n",
    "            scores += len(res)\n",
    "print(scores)"
   ]
  },
  {
   "cell_type": "code",
   "execution_count": 21,
   "metadata": {},
   "outputs": [
    {
     "name": "stdout",
     "output_type": "stream",
     "text": [
      "1186\n"
     ]
    }
   ],
   "source": [
    "# Q2\n",
    "\n",
    "board = read(\"input.txt\")\n",
    "dp = [[0 for _ in range(len(board[0]))] for _ in range(len(board))]\n",
    "for i in range(len(board)):\n",
    "    for j in range(len(board[0])):\n",
    "        if board[i][j] == 9:\n",
    "            dp[i][j] = 1\n",
    "\n",
    "\n",
    "def dfs(pos_x, pos_y, height):\n",
    "    if board[pos_x][pos_y] != height:\n",
    "        return 0\n",
    "    if dp[pos_x][pos_y] > 0:\n",
    "        return dp[pos_x][pos_y]\n",
    "    for dir_x, dir_y in [(0, 1), (1, 0), (0, -1), (-1, 0)]:\n",
    "        new_x, new_y = pos_x + dir_x, pos_y + dir_y\n",
    "        if new_x < 0 or new_x >= len(board) or new_y < 0 or new_y >= len(board[0]):\n",
    "            continue\n",
    "        dp[pos_x][pos_y] += dfs(new_x, new_y, height + 1)\n",
    "    return dp[pos_x][pos_y]\n",
    "\n",
    "\n",
    "scores = 0\n",
    "for i in range(len(board)):\n",
    "    for j in range(len(board[0])):\n",
    "        scores += dfs(i, j, 0)\n",
    "print(scores)"
   ]
  }
 ],
 "metadata": {
  "kernelspec": {
   "display_name": "utils",
   "language": "python",
   "name": "python3"
  },
  "language_info": {
   "codemirror_mode": {
    "name": "ipython",
    "version": 3
   },
   "file_extension": ".py",
   "mimetype": "text/x-python",
   "name": "python",
   "nbconvert_exporter": "python",
   "pygments_lexer": "ipython3",
   "version": "3.13.0"
  }
 },
 "nbformat": 4,
 "nbformat_minor": 2
}
