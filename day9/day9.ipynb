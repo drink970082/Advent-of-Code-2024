{
 "cells": [
  {
   "cell_type": "code",
   "execution_count": 1,
   "metadata": {},
   "outputs": [],
   "source": [
    "def get_input(file):\n",
    "    with open(file) as f:\n",
    "        line = f.readline().strip()\n",
    "\n",
    "    line = [int(x) for x in line]\n",
    "    idx = 0\n",
    "    empty_idx = -1\n",
    "    space = []\n",
    "    for i in range(0, len(line), 2):\n",
    "        for _ in range(line[i]):\n",
    "            space.append(idx)\n",
    "        if i + 1 < len(line):\n",
    "            for _ in range(line[i + 1]):\n",
    "                space.append(empty_idx)\n",
    "        idx += 1\n",
    "        empty_idx -= 1\n",
    "    return space\n",
    "\n",
    "def checksum(space):\n",
    "    checksum = 0\n",
    "    for i in range(len(space)):\n",
    "        if space[i] >=0:\n",
    "            checksum += space[i] * i\n",
    "    return checksum\n"
   ]
  },
  {
   "cell_type": "code",
   "execution_count": 2,
   "metadata": {},
   "outputs": [
    {
     "name": "stdout",
     "output_type": "stream",
     "text": [
      "6430446922192\n"
     ]
    }
   ],
   "source": [
    "space = get_input('input.txt')\n",
    "left = 0\n",
    "right = len(space) - 1\n",
    "while left < right:\n",
    "    if space[left] >= 0:\n",
    "        left += 1\n",
    "    elif space[right] < 0:\n",
    "        right -= 1\n",
    "    else:\n",
    "        space[left], space[right] = space[right], space[left]\n",
    "        left += 1\n",
    "        right -= 1\n",
    "\n",
    "\n",
    "\n",
    "print(checksum(space))"
   ]
  },
  {
   "cell_type": "code",
   "execution_count": 14,
   "metadata": {},
   "outputs": [
    {
     "name": "stdout",
     "output_type": "stream",
     "text": [
      "6460170593016\n"
     ]
    }
   ],
   "source": [
    "space = get_input(\"input.txt\")\n",
    "\n",
    "left = 0\n",
    "right = len(space) - 1\n",
    "\n",
    "\n",
    "def count_i(i, space):\n",
    "    count_i = 0\n",
    "    while space[i] < 0:\n",
    "        i += 1\n",
    "        count_i += 1\n",
    "    return count_i\n",
    "\n",
    "\n",
    "def count_j(j, space):\n",
    "    count_j = 0\n",
    "    start = space[j]\n",
    "    while space[j] == start:\n",
    "        j -= 1\n",
    "        count_j += 1\n",
    "    return count_j\n",
    "\n",
    "\n",
    "while left < right:\n",
    "    while space[left] >= 0:\n",
    "        left += 1\n",
    "    while space[right] < 0:\n",
    "        right -= 1\n",
    "    file = count_j(right, space)\n",
    "    i = left\n",
    "    while i < right and (empty := count_i(i, space) < file):\n",
    "        i += empty\n",
    "        while space[i] >= 0:\n",
    "            i += 1\n",
    "    if i < right:\n",
    "        for _ in range(file):\n",
    "            space[i], space[right] = space[right], space[i]\n",
    "            i += 1\n",
    "            right -= 1\n",
    "    else:\n",
    "        right -= file\n",
    "print(checksum(space))"
   ]
  }
 ],
 "metadata": {
  "kernelspec": {
   "display_name": "utils",
   "language": "python",
   "name": "python3"
  },
  "language_info": {
   "codemirror_mode": {
    "name": "ipython",
    "version": 3
   },
   "file_extension": ".py",
   "mimetype": "text/x-python",
   "name": "python",
   "nbconvert_exporter": "python",
   "pygments_lexer": "ipython3",
   "version": "3.13.0"
  }
 },
 "nbformat": 4,
 "nbformat_minor": 2
}
