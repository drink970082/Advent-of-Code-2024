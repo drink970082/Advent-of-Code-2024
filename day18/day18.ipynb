{
 "cells": [
  {
   "cell_type": "code",
   "execution_count": 25,
   "metadata": {},
   "outputs": [],
   "source": [
    "from heapq import heapify, heappush, heappop\n",
    "\n",
    "\n",
    "def read(file=\"input.txt\", length=71, byte=1024):\n",
    "    board = [[\".\" for i in range(length)] for j in range(length)]\n",
    "    i = 0\n",
    "    with open(file) as f:\n",
    "        while (line := f.readline().strip()) and i < byte:\n",
    "            x, y = line.split(\",\")\n",
    "            board[int(y)][int(x)] = \"#\"\n",
    "            i += 1\n",
    "    return board\n",
    "\n",
    "\n",
    "def dijkstra_solve(board, length=71):\n",
    "    steps = [[float(\"inf\")] * length for _ in range(length)]\n",
    "    steps[0][0] = 0\n",
    "    heapify(heap := [])\n",
    "    if board[0][1] == \".\":\n",
    "        heappush(heap, (1, 0, 1))\n",
    "        steps[0][1] = 1\n",
    "    if board[1][0] == \".\":\n",
    "        heappush(heap, (1, 1, 0))\n",
    "        steps[1][0] = 1\n",
    "    while heap:\n",
    "        curr_step, x, y = heappop(heap)\n",
    "        if x == length - 1 and y == length - 1:\n",
    "            return curr_step\n",
    "        for dx, dy in [(1, 0), (-1, 0), (0, 1), (0, -1)]:\n",
    "            nx, ny = x + dx, y + dy\n",
    "            if 0 <= nx < length and 0 <= ny < length and board[ny][nx] == \".\":\n",
    "                if steps[ny][nx] > curr_step + 1:\n",
    "                    steps[ny][nx] = curr_step + 1\n",
    "                    heappush(heap, (curr_step + 1, nx, ny))\n",
    "    return -1"
   ]
  },
  {
   "cell_type": "code",
   "execution_count": 28,
   "metadata": {},
   "outputs": [
    {
     "data": {
      "text/plain": [
       "290"
      ]
     },
     "execution_count": 28,
     "metadata": {},
     "output_type": "execute_result"
    }
   ],
   "source": [
    "# Q1\n",
    "dijkstra_solve(read())"
   ]
  },
  {
   "cell_type": "code",
   "execution_count": null,
   "metadata": {},
   "outputs": [
    {
     "name": "stdout",
     "output_type": "stream",
     "text": [
      "2988\n"
     ]
    }
   ],
   "source": [
    "# Q1\n",
    "for i in range(1024, 3451):\n",
    "    if dijkstra_solve(read(byte=i)) == -1:\n",
    "        print(i)\n",
    "        break"
   ]
  }
 ],
 "metadata": {
  "kernelspec": {
   "display_name": "utils",
   "language": "python",
   "name": "python3"
  },
  "language_info": {
   "codemirror_mode": {
    "name": "ipython",
    "version": 3
   },
   "file_extension": ".py",
   "mimetype": "text/x-python",
   "name": "python",
   "nbconvert_exporter": "python",
   "pygments_lexer": "ipython3",
   "version": "3.13.0"
  }
 },
 "nbformat": 4,
 "nbformat_minor": 2
}
