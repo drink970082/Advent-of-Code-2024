{
 "cells": [
  {
   "cell_type": "code",
   "execution_count": 57,
   "metadata": {},
   "outputs": [],
   "source": [
    "from tqdm import tqdm\n",
    "from collections import defaultdict\n",
    "from itertools import combinations\n",
    "\n",
    "board = []\n",
    "antennas = defaultdict(list)\n",
    "with open(\"input.txt\") as f:\n",
    "    while line := f.readline():\n",
    "        board.append(list(line.strip()))\n",
    "        for node in board[-1]:\n",
    "            if node != \".\":\n",
    "                antennas[node].append((len(board) - 1, board[-1].index(node)))\n",
    "length, width = len(board), len(board[0])"
   ]
  },
  {
   "cell_type": "code",
   "execution_count": 51,
   "metadata": {},
   "outputs": [
    {
     "name": "stdout",
     "output_type": "stream",
     "text": [
      "293\n"
     ]
    }
   ],
   "source": [
    "# Q1\n",
    "antinodes = set()\n",
    "for antenna in antennas.values():\n",
    "    for node1, node2 in combinations(antenna, 2):\n",
    "        diff = (node2[0] - node1[0], node2[1] - node1[1])\n",
    "        antinode_left = (node1[0] - diff[0], node1[1] - diff[1])\n",
    "        antinode_right = (node2[0] + diff[0], node2[1] + diff[1])\n",
    "        if 0 <= antinode_left[0] < length and 0 <= antinode_left[1] < width:\n",
    "            antinodes.add(antinode_left)\n",
    "        if 0 <= antinode_right[0] < length and 0 <= antinode_right[1] < width:\n",
    "            antinodes.add(antinode_right)\n",
    "print(len(antinodes))"
   ]
  },
  {
   "cell_type": "code",
   "execution_count": 65,
   "metadata": {},
   "outputs": [
    {
     "name": "stdout",
     "output_type": "stream",
     "text": [
      "934\n"
     ]
    }
   ],
   "source": [
    "# Q2\n",
    "antinodes = set()\n",
    "for antenna in antennas.values():\n",
    "    for node1, node2 in combinations(antenna, 2):\n",
    "        diff = (node2[0] - node1[0], node2[1] - node1[1])\n",
    "        while 0 <= node1[0] < length and 0 <= node1[1] < width:\n",
    "            antinodes.add(node1)\n",
    "            node1 = (node1[0] - diff[0], node1[1] - diff[1])\n",
    "        while 0 <= node2[0] < length and 0 <= node2[1] < width:\n",
    "            antinodes.add(node2)\n",
    "            node2 = (node2[0] + diff[0], node2[1] + diff[1])\n",
    "print(len(antinodes))"
   ]
  }
 ],
 "metadata": {
  "kernelspec": {
   "display_name": "utils",
   "language": "python",
   "name": "python3"
  },
  "language_info": {
   "codemirror_mode": {
    "name": "ipython",
    "version": 3
   },
   "file_extension": ".py",
   "mimetype": "text/x-python",
   "name": "python",
   "nbconvert_exporter": "python",
   "pygments_lexer": "ipython3",
   "version": "3.13.0"
  }
 },
 "nbformat": 4,
 "nbformat_minor": 2
}
