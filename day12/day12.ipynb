{
 "cells": [
  {
   "cell_type": "code",
   "execution_count": 28,
   "metadata": {},
   "outputs": [],
   "source": [
    "def read(file=\"input.txt\"):\n",
    "    with open(file) as f:\n",
    "        board = [[\"0\"] + list(l.strip()) + [\"0\"] for l in f.readlines()]\n",
    "    board = [[\"0\"] * len(board[0])] + board + [[\"0\"] * len(board[0])]\n",
    "    visited = [[False for _ in range(len(board[0]))] for _ in range(len(board))]\n",
    "    return board, visited\n",
    "\n",
    "\n",
    "DIR = {\"R\": (0, 1), \"B\": (1, 0), \"L\": (0, -1), \"T\": (-1, 0)}"
   ]
  },
  {
   "cell_type": "code",
   "execution_count": 29,
   "metadata": {},
   "outputs": [
    {
     "name": "stdout",
     "output_type": "stream",
     "text": [
      "1304764\n"
     ]
    }
   ],
   "source": [
    "# Q1\n",
    "def dfs(x, y, region, board, visited):\n",
    "    perimeter, area = 0, 0\n",
    "    if board[x][y] != region:\n",
    "        return 1, 0\n",
    "    if visited[x][y]:\n",
    "        return 0, 0\n",
    "\n",
    "    visited[x][y] = True\n",
    "\n",
    "    for dx, dy in DIR.values():\n",
    "        nx, ny = x + dx, y + dy\n",
    "        res = dfs(nx, ny, region, board, visited)\n",
    "        perimeter += res[0]\n",
    "        area += res[1]\n",
    "    return perimeter, area + 1\n",
    "\n",
    "\n",
    "board, visited = read()\n",
    "price = 0\n",
    "for x in range(1, len(board) - 1):\n",
    "    for y in range(1, len(board[0]) - 1):\n",
    "        if not visited[x][y]:\n",
    "            perimeter, area = dfs(x, y, board[x][y], board, visited)\n",
    "            price += perimeter * area\n",
    "print(price)"
   ]
  },
  {
   "cell_type": "code",
   "execution_count": 36,
   "metadata": {},
   "outputs": [
    {
     "name": "stdout",
     "output_type": "stream",
     "text": [
      "811148\n"
     ]
    }
   ],
   "source": [
    "# Q2\n",
    "\n",
    "\n",
    "def dfs(x, y, region, board, visited, boundary):\n",
    "    area = 0\n",
    "    visited[x][y] = True\n",
    "\n",
    "    for d, (dx, dy) in DIR.items():\n",
    "        nx, ny = x + dx, y + dy\n",
    "        if board[nx][ny] != region:\n",
    "            boundary[x][y].add(d)\n",
    "        elif not visited[nx][ny]:\n",
    "            area += dfs(nx, ny, region, board, visited, boundary)\n",
    "    return area + 1\n",
    "\n",
    "\n",
    "def find_sides(boundary):\n",
    "    sides = 0\n",
    "    for i in range(len(boundary)):\n",
    "        for j in range(len(boundary[0])):\n",
    "            if len(boundary[i][j]):\n",
    "                sides += len(boundary[i][j])\n",
    "                for b in boundary[i][j]:\n",
    "                    for dx, dy in DIR.values():\n",
    "                        nx, ny = i + dx, j + dy\n",
    "                        while b in boundary[nx][ny]:\n",
    "                            boundary[nx][ny].remove(b)\n",
    "                            nx += dx\n",
    "                            ny += dy\n",
    "                boundary[i][j].remove(b)\n",
    "    return sides\n",
    "\n",
    "\n",
    "board, visited = read()\n",
    "price = 0\n",
    "for x in range(1, len(board) - 1):\n",
    "    for y in range(1, len(board[0]) - 1):\n",
    "        if not visited[x][y]:\n",
    "            boundary = [[set() for _ in range(len(board[0]))] for _ in range(len(board))]\n",
    "            area = dfs(x, y, board[x][y], board, visited, boundary)\n",
    "            sides = find_sides(boundary)\n",
    "            price += area * sides\n",
    "print(price)"
   ]
  }
 ],
 "metadata": {
  "kernelspec": {
   "display_name": "utils",
   "language": "python",
   "name": "python3"
  },
  "language_info": {
   "codemirror_mode": {
    "name": "ipython",
    "version": 3
   },
   "file_extension": ".py",
   "mimetype": "text/x-python",
   "name": "python",
   "nbconvert_exporter": "python",
   "pygments_lexer": "ipython3",
   "version": "3.13.0"
  }
 },
 "nbformat": 4,
 "nbformat_minor": 2
}
