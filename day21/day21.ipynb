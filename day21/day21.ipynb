{
 "cells": [
  {
   "cell_type": "code",
   "execution_count": 42,
   "metadata": {},
   "outputs": [],
   "source": [
    "from heapq import heappop, heappush, heapify\n",
    "from tqdm import tqdm\n",
    "\n",
    "\n",
    "def read(robot_nums):\n",
    "    with open(\"input.txt\") as f:\n",
    "        instructions = [i.strip() for i in f.readlines()]\n",
    "    dirs = [[[\"7\", \"8\", \"9\"], [\"4\", \"5\", \"6\"], [\"1\", \"2\", \"3\"], [\"X\", \"0\", \"A\"]]] + [[[\"X\", \"^\", \"A\"], [\"<\", \"v\", \">\"]] for _ in range(robot_nums)]\n",
    "    robots = [(3, 2)] + [(0, 2) for _ in range(robot_nums)]\n",
    "    return instructions, dirs, robots\n",
    "\n",
    "\n",
    "def dijkstra(board, robot_pos, end):\n",
    "    heapify(heap := [(0, robot_pos)])\n",
    "    dp = [[float(\"inf\") for _ in range(len(board[0]))] for _ in range(len(board))]\n",
    "    prev = [[set() for _ in range(len(board[0]))] for _ in range(len(board))]\n",
    "    dp[robot_pos[0]][robot_pos[1]] = 0\n",
    "    min_d = float(\"inf\")\n",
    "    while heap:\n",
    "        d, (y, x) = heappop(heap)\n",
    "        if d > min_d:\n",
    "            continue\n",
    "        if board[y][x] == end:\n",
    "            end_coor = (y, x)\n",
    "            min_d = d\n",
    "            continue\n",
    "        for dx, dy in [(-1, 0), (1, 0), (0, -1), (0, 1)]:\n",
    "            nx, ny = x + dx, y + dy\n",
    "            if 0 <= ny < len(board) and 0 <= nx < len(board[0]) and board[ny][nx] != \"X\":\n",
    "                if dp[ny][nx] > d + 1:\n",
    "                    dp[ny][nx] = d + 1\n",
    "                    prev[ny][nx].add((y, x))\n",
    "                    heappush(heap, (d + 1, (ny, nx)))\n",
    "                elif dp[ny][nx] == d + 1:\n",
    "                    prev[ny][nx].add((y, x))\n",
    "    paths = []\n",
    "    stack = [(end_coor, [])]\n",
    "    while stack:\n",
    "        (y, x), curr_path = stack.pop()\n",
    "        if (y, x) == robot_pos:\n",
    "            paths.append([(y, x)] + curr_path)\n",
    "        else:\n",
    "            for py, px in prev[y][x]:\n",
    "                stack.append(((py, px), [(y, x)] + curr_path))\n",
    "    unique_paths = list({tuple(path) for path in paths})\n",
    "    movements = []\n",
    "    for path in unique_paths:\n",
    "        move = []\n",
    "        start = path[0]\n",
    "        for y, x in path[1:]:\n",
    "            if y > start[0]:\n",
    "                move.append(\"v\")\n",
    "            elif y < start[0]:\n",
    "                move.append(\"^\")\n",
    "            elif x > start[1]:\n",
    "                move.append(\">\")\n",
    "            else:\n",
    "                move.append(\"<\")\n",
    "            start = (y, x)\n",
    "        move.append(\"A\")\n",
    "        movements.append(\"\".join(move))\n",
    "    return end_coor, movements\n",
    "\n",
    "\n",
    "def helper(dirs, robots_pos, robots_end, idx, dp_helper):\n",
    "    robot_start = robots_pos[idx]\n",
    "    robot_next, moves_next = dijkstra(dirs[idx], robot_start, robots_end)\n",
    "    robots_pos[idx] = robot_next\n",
    "    min_robot_move = float(\"inf\")\n",
    "    for robot_move in moves_next:\n",
    "        if (idx, robot_move) in dp_helper:\n",
    "            temp_robot_move = dp_helper[(idx, robot_move)]\n",
    "        else:\n",
    "            temp_robot_move = 0\n",
    "            for i in robot_move:\n",
    "                if idx < len(dirs) - 1:\n",
    "                    temp_robot_move += helper(dirs, robots_pos, i, idx + 1, dp_helper)\n",
    "                else:\n",
    "                    temp_robot_move += 1\n",
    "            dp_helper[(idx, robot_move)] = temp_robot_move\n",
    "        min_robot_move = min(min_robot_move, temp_robot_move)\n",
    "    return min_robot_move\n",
    "\n",
    "\n",
    "def solver(robot_nums):\n",
    "    instructions, dirs, robots = read(robot_nums)\n",
    "    complexities = 0\n",
    "    dp_helper = dict()\n",
    "    for ins in tqdm(instructions):\n",
    "        shortest_path = 0\n",
    "        for i in ins:\n",
    "            shortest_path += helper(dirs, robots, i, 0, dp_helper)\n",
    "        complexities += int(ins[:-1]) * shortest_path\n",
    "    print(complexities)"
   ]
  },
  {
   "cell_type": "code",
   "execution_count": 43,
   "metadata": {},
   "outputs": [
    {
     "name": "stderr",
     "output_type": "stream",
     "text": [
      "100%|██████████| 5/5 [00:00<00:00, 1792.13it/s]"
     ]
    },
    {
     "name": "stdout",
     "output_type": "stream",
     "text": [
      "157908\n"
     ]
    },
    {
     "name": "stderr",
     "output_type": "stream",
     "text": [
      "\n"
     ]
    }
   ],
   "source": [
    "# Q1\n",
    "solver(2)"
   ]
  },
  {
   "cell_type": "code",
   "execution_count": 44,
   "metadata": {},
   "outputs": [
    {
     "name": "stderr",
     "output_type": "stream",
     "text": [
      "100%|██████████| 5/5 [00:00<00:00, 289.23it/s]"
     ]
    },
    {
     "name": "stdout",
     "output_type": "stream",
     "text": [
      "196910339808654\n"
     ]
    },
    {
     "name": "stderr",
     "output_type": "stream",
     "text": [
      "\n"
     ]
    }
   ],
   "source": [
    "# Q2\n",
    "solver(25)"
   ]
  }
 ],
 "metadata": {
  "kernelspec": {
   "display_name": "utils",
   "language": "python",
   "name": "python3"
  },
  "language_info": {
   "codemirror_mode": {
    "name": "ipython",
    "version": 3
   },
   "file_extension": ".py",
   "mimetype": "text/x-python",
   "name": "python",
   "nbconvert_exporter": "python",
   "pygments_lexer": "ipython3",
   "version": "3.13.0"
  }
 },
 "nbformat": 4,
 "nbformat_minor": 2
}
