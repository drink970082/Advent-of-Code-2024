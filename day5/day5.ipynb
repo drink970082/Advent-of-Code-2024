{
 "cells": [
  {
   "cell_type": "code",
   "execution_count": 4,
   "metadata": {},
   "outputs": [],
   "source": [
    "from collections import defaultdict\n",
    "\n",
    "\n",
    "def check_list(lst, rule):\n",
    "    for i in range(len(lst)):\n",
    "        for j in range(i):\n",
    "            if lst[j] in rule[lst[i]]:\n",
    "                return False\n",
    "        for j in range(i + 1, len(lst)):\n",
    "            if lst[i] in rule[lst[j]]:\n",
    "                return False\n",
    "    return True\n",
    "\n",
    "\n",
    "def get_median(lst):\n",
    "    return lst[len(lst) // 2] if len(lst) % 2 == 1 else (lst[len(lst) // 2] + lst[len(lst) // 2 - 1]) / 2\n",
    "\n",
    "\n",
    "def fix_list(lst):\n",
    "    i = 0\n",
    "    while i < len(lst):\n",
    "        fixed = False\n",
    "        for j in range(i):\n",
    "            if lst[j] in rule[lst[i]]:\n",
    "                fixed = True\n",
    "                lst[i], lst[j] = lst[j], lst[i]\n",
    "        for j in range(i + 1, len(lst)):\n",
    "            if lst[i] in rule[lst[j]]:\n",
    "                fixed = True\n",
    "                lst[i], lst[j] = lst[j], lst[i]\n",
    "        if not fixed:\n",
    "            i += 1\n",
    "    return lst\n",
    "\n",
    "\n",
    "def read():\n",
    "    rule = defaultdict(set)\n",
    "    lsts = []\n",
    "    with open(\"input.txt\") as f:\n",
    "        while line := f.readline():\n",
    "            if line == \"\\n\":\n",
    "                break\n",
    "            key, val = line.strip().split(\"|\")\n",
    "            rule[int(key)].add(int(val))\n",
    "        while line := f.readline():\n",
    "            lsts.append([int(x) for x in line.strip().split(\",\")])\n",
    "    return rule, lsts\n",
    "\n",
    "rule, lsts = read()"
   ]
  },
  {
   "cell_type": "code",
   "execution_count": null,
   "metadata": {},
   "outputs": [
    {
     "name": "stdout",
     "output_type": "stream",
     "text": [
      "4689\n"
     ]
    }
   ],
   "source": [
    "# Q1\n",
    "total = 0\n",
    "for lst in lsts:\n",
    "    if check_list(lst, rule):\n",
    "        total += get_median(lst)\n",
    "print(total)"
   ]
  },
  {
   "cell_type": "code",
   "execution_count": null,
   "metadata": {},
   "outputs": [
    {
     "name": "stdout",
     "output_type": "stream",
     "text": [
      "6336\n"
     ]
    }
   ],
   "source": [
    "# Q2\n",
    "total = 0\n",
    "for lst in lsts:\n",
    "    if not check_list(lst, rule):\n",
    "        total += get_median(fix_list(lst))\n",
    "print(total)"
   ]
  }
 ],
 "metadata": {
  "kernelspec": {
   "display_name": "utils",
   "language": "python",
   "name": "python3"
  },
  "language_info": {
   "codemirror_mode": {
    "name": "ipython",
    "version": 3
   },
   "file_extension": ".py",
   "mimetype": "text/x-python",
   "name": "python",
   "nbconvert_exporter": "python",
   "pygments_lexer": "ipython3",
   "version": "3.13.0"
  }
 },
 "nbformat": 4,
 "nbformat_minor": 2
}
