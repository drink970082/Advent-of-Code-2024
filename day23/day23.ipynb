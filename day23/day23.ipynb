{
 "cells": [
  {
   "cell_type": "code",
   "execution_count": 4,
   "metadata": {},
   "outputs": [],
   "source": [
    "def read(file):\n",
    "    with open(file, \"r\") as f:\n",
    "        edges = [x.strip().split(\"-\") for x in f.readlines()]\n",
    "    return edges"
   ]
  },
  {
   "cell_type": "code",
   "execution_count": 94,
   "metadata": {},
   "outputs": [],
   "source": [
    "class Graph:\n",
    "    def __init__(self, edges):\n",
    "        self.edges = edges\n",
    "        self.nodes = set()\n",
    "        for edge in edges:\n",
    "            self.nodes.add(edge[0])\n",
    "            self.nodes.add(edge[1])\n",
    "        self.nodes = list(self.nodes)\n",
    "        self.nodes.sort()\n",
    "        self.adj = {node: set() for node in self.nodes}\n",
    "        for edge in edges:\n",
    "            self.adj[edge[0]].add(edge[1])\n",
    "            self.adj[edge[1]].add(edge[0])\n",
    "\n",
    "    def get_three_inter_connected(self, name):\n",
    "        connected = set()\n",
    "        for node in self.nodes:\n",
    "            for adj_node in self.adj[node]:\n",
    "                for adj_adj_node in self.adj[adj_node]:\n",
    "                    if node in self.adj[adj_adj_node]:\n",
    "                        connected.add(tuple(sorted([node, adj_node, adj_adj_node])))\n",
    "        counter = 0\n",
    "        for c in connected:\n",
    "            for node in c:\n",
    "                if node.startswith(name):\n",
    "                    counter += 1\n",
    "                    break\n",
    "        return counter\n",
    "\n",
    "    def BronKerbosch(self, R, P, X, cliques):\n",
    "        if len(P) == 0 and len(X) == 0:\n",
    "            cliques.append(R)\n",
    "        for v in P.copy():\n",
    "            self.BronKerbosch(R.union({v}), P.intersection(self.adj[v]), X.intersection(self.adj[v]), cliques)\n",
    "            P.remove(v)\n",
    "            X.add(v)\n",
    "\n",
    "    def get_max_cliques(self):\n",
    "        R = set()\n",
    "        P = set(self.nodes)\n",
    "        X = set()\n",
    "        cliques = []\n",
    "        self.BronKerbosch(R, P, X, cliques)\n",
    "        max_cliques = []\n",
    "        for clique in cliques:\n",
    "            if len(clique) > len(max_cliques):\n",
    "                max_cliques = clique\n",
    "\n",
    "        return \",\".join(sorted(max_cliques))"
   ]
  },
  {
   "cell_type": "code",
   "execution_count": null,
   "metadata": {},
   "outputs": [
    {
     "name": "stdout",
     "output_type": "stream",
     "text": [
      "1344\n"
     ]
    }
   ],
   "source": [
    "# Q1\n",
    "graph = Graph(read(\"input.txt\"))\n",
    "print(graph.get_three_inter_connected(\"t\"))"
   ]
  },
  {
   "cell_type": "code",
   "execution_count": 96,
   "metadata": {},
   "outputs": [
    {
     "name": "stdout",
     "output_type": "stream",
     "text": [
      "ab,al,cq,cr,da,db,dr,fw,ly,mn,od,py,uh\n"
     ]
    }
   ],
   "source": [
    "# Q2\n",
    "graph = Graph(read(\"input.txt\"))\n",
    "print(graph.get_max_cliques())"
   ]
  }
 ],
 "metadata": {
  "kernelspec": {
   "display_name": "utils",
   "language": "python",
   "name": "python3"
  },
  "language_info": {
   "codemirror_mode": {
    "name": "ipython",
    "version": 3
   },
   "file_extension": ".py",
   "mimetype": "text/x-python",
   "name": "python",
   "nbconvert_exporter": "python",
   "pygments_lexer": "ipython3",
   "version": "3.13.0"
  }
 },
 "nbformat": 4,
 "nbformat_minor": 2
}
