{
 "cells": [
  {
   "cell_type": "code",
   "execution_count": 122,
   "metadata": {},
   "outputs": [],
   "source": [
    "from heapq import heapify, heappush, heappop\n",
    "\n",
    "\n",
    "def read_board(file=\"input.txt\"):\n",
    "    board = []\n",
    "    with open(file) as f:\n",
    "        for line in f:\n",
    "            board.append(list(line.strip()))\n",
    "            for i in range(len(board[-1])):\n",
    "                if board[-1][i] == \"E\":\n",
    "                    end = (len(board) - 1, i)\n",
    "                elif board[-1][i] == \"S\":\n",
    "                    start = (len(board) - 1, i)\n",
    "    return board, start, end\n",
    "\n",
    "\n",
    "def backtrack_path(y, x, prev, start):\n",
    "    paths = []\n",
    "    stack = [([(y, x)], (y, x))]  # Stack of (current_path, current_node)\n",
    "    while stack:\n",
    "        current_path, (cy, cx) = stack.pop()\n",
    "        if (cy, cx) == start:\n",
    "            paths.append(current_path)\n",
    "        else:\n",
    "            for py, px in prev[cy][cx]:\n",
    "                stack.append(([(py, px)] + current_path, (py, px)))\n",
    "    return paths\n",
    "\n",
    "\n",
    "def dijkstra_solve(file=\"input.txt\"):\n",
    "    board, start, end = read_board(file)\n",
    "    steps = [[float(\"inf\")] * len(board[0]) for _ in range(len(board))]\n",
    "    prev = [[set() for _ in range(len(board[0]))] for _ in range(len(board))]\n",
    "    steps[start[0]][start[1]] = 0\n",
    "    min_steps = float(\"inf\")\n",
    "    heapify(heap := [(0, start[1], start[0])])\n",
    "    while heap:\n",
    "        curr_step, x, y = heappop(heap)\n",
    "        if curr_step > min_steps:\n",
    "            break\n",
    "        if (y, x) == end:\n",
    "            min_steps = curr_step\n",
    "            continue\n",
    "        for dx, dy in [(1, 0), (-1, 0), (0, 1), (0, -1)]:\n",
    "            nx, ny = x + dx, y + dy\n",
    "            if board[ny][nx] == \".\" or board[ny][nx] == \"E\":\n",
    "                if steps[ny][nx] > curr_step + 1:\n",
    "                    steps[ny][nx] = curr_step + 1\n",
    "                    prev[ny][nx].add((y, x))\n",
    "                    heappush(heap, (curr_step + 1, nx, ny))\n",
    "    best_paths = backtrack_path(*end, prev, start)\n",
    "    unique_paths = list({tuple(path) for path in best_paths})\n",
    "    path_cells = set()\n",
    "    for path in unique_paths:\n",
    "        for i, (ry, rx) in enumerate(path):\n",
    "            path_cells.add((ry, rx, i))\n",
    "        path_cells.add((start[0], start[1], 0))\n",
    "\n",
    "    for ry, rx, i in path_cells:\n",
    "        board[ry][rx] = i\n",
    "\n",
    "    return board, best_paths"
   ]
  },
  {
   "cell_type": "code",
   "execution_count": 123,
   "metadata": {},
   "outputs": [
    {
     "name": "stdout",
     "output_type": "stream",
     "text": [
      "1263\n"
     ]
    }
   ],
   "source": [
    "# Q1\n",
    "board, best_paths = dijkstra_solve()\n",
    "cheat_set = set()\n",
    "steps_save = 0\n",
    "for y, x in best_paths[0]:\n",
    "    for dx, dy in [(1, 0), (-1, 0), (0, 1), (0, -1)]:\n",
    "        nx, ny = x + 2 * dx, y + 2 * dy\n",
    "        if 0 <= nx < len(board[0]) and 0 <= ny < len(board) and board[ny][nx] != \"#\":\n",
    "            steps_saved = board[ny][nx] - board[y][x] - 2\n",
    "            if steps_saved >= 100 and ((y, x), (ny, nx)) not in cheat_set:\n",
    "                cheat_set.add(((y, x), (ny, nx), steps_saved))\n",
    "                steps_save += 1\n",
    "print(steps_save)"
   ]
  },
  {
   "cell_type": "code",
   "execution_count": null,
   "metadata": {},
   "outputs": [
    {
     "name": "stderr",
     "output_type": "stream",
     "text": [
      "100%|██████████| 9325/9325 [00:32<00:00, 283.96it/s] "
     ]
    },
    {
     "name": "stdout",
     "output_type": "stream",
     "text": [
      "957831\n"
     ]
    },
    {
     "name": "stderr",
     "output_type": "stream",
     "text": [
      "\n"
     ]
    }
   ],
   "source": [
    "# Q2\n",
    "from tqdm import tqdm\n",
    "board, best_paths = dijkstra_solve(\"input.txt\")\n",
    "cheats = 0\n",
    "best_path = list(best_paths[0])\n",
    "for start in tqdm(range(len(best_path))):\n",
    "    for end in range(start + 1, len(best_path)):\n",
    "        (y1, x1), (y2, x2) = best_path[start], best_path[end]\n",
    "        dist = abs(y1 - y2) + abs(x1 - x2)\n",
    "        cost = board[y2][x2] - board[y1][x1]\n",
    "        if dist <= 20 and cost - dist >= 100:\n",
    "            cheats += 1\n",
    "print(cheats)"
   ]
  }
 ],
 "metadata": {
  "kernelspec": {
   "display_name": "utils",
   "language": "python",
   "name": "python3"
  },
  "language_info": {
   "codemirror_mode": {
    "name": "ipython",
    "version": 3
   },
   "file_extension": ".py",
   "mimetype": "text/x-python",
   "name": "python",
   "nbconvert_exporter": "python",
   "pygments_lexer": "ipython3",
   "version": "3.13.0"
  }
 },
 "nbformat": 4,
 "nbformat_minor": 2
}
