{
 "cells": [
  {
   "cell_type": "code",
   "execution_count": 1,
   "metadata": {},
   "outputs": [],
   "source": [
    "import re\n",
    "\n",
    "input = \"\"\n",
    "with open(\"input.txt\") as f:\n",
    "    while line := f.readline():\n",
    "        input += line"
   ]
  },
  {
   "cell_type": "code",
   "execution_count": null,
   "metadata": {},
   "outputs": [
    {
     "name": "stdout",
     "output_type": "stream",
     "text": [
      "159892596\n"
     ]
    }
   ],
   "source": [
    "# Q1\n",
    "p = re.compile(r\"mul\\([0-9]+,[0-9]+\\)\")\n",
    "m = p.findall(input)\n",
    "res = 0\n",
    "for i in m:\n",
    "    a, b = map(int, i[4:-1].split(\",\"))\n",
    "    res += a * b\n",
    "print(res)"
   ]
  },
  {
   "cell_type": "code",
   "execution_count": null,
   "metadata": {},
   "outputs": [
    {
     "name": "stdout",
     "output_type": "stream",
     "text": [
      "92626942\n"
     ]
    }
   ],
   "source": [
    "# Q2\n",
    "p = re.compile(r\"(mul\\([0-9]+,[0-9]+\\)|do\\(\\)|don't\\(\\))\")\n",
    "m = p.findall(input)\n",
    "res = 0\n",
    "disable = False\n",
    "for i in m:\n",
    "    if i == \"don't()\":\n",
    "        disable = True\n",
    "    elif i == 'do()':\n",
    "        disable = False\n",
    "    elif not disable:\n",
    "        a, b = map(int, i[4:-1].split(\",\"))\n",
    "        res += a * b\n",
    "print(res)"
   ]
  }
 ],
 "metadata": {
  "kernelspec": {
   "display_name": "utils",
   "language": "python",
   "name": "python3"
  },
  "language_info": {
   "codemirror_mode": {
    "name": "ipython",
    "version": 3
   },
   "file_extension": ".py",
   "mimetype": "text/x-python",
   "name": "python",
   "nbconvert_exporter": "python",
   "pygments_lexer": "ipython3",
   "version": "3.13.0"
  }
 },
 "nbformat": 4,
 "nbformat_minor": 2
}
