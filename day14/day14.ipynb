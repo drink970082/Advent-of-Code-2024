{
 "cells": [
  {
   "cell_type": "code",
   "execution_count": 22,
   "metadata": {},
   "outputs": [],
   "source": [
    "movement = 100\n",
    "x_max = 101\n",
    "y_max = 103\n",
    "with open(\"input.txt\") as f:\n",
    "    lines = [line.strip().split(\" \") for line in f.readlines()]\n",
    "    for l in lines:\n",
    "        l[0] = l[0][2:].split(\",\")\n",
    "        l[1] = l[1][2:].split(\",\")\n",
    "        l[0][0] = (int(l[0][0]) + int(l[1][0]) * movement % x_max) % x_max\n",
    "        l[0][1] = (int(l[0][1]) + int(l[1][1]) * movement % y_max) % y_max\n",
    "\n",
    "\n",
    "def quadrant_check():\n",
    "    left_top = 0\n",
    "    left_bottom = 0\n",
    "    right_top = 0\n",
    "    right_bottom = 0\n",
    "    x_bound = x_max // 2\n",
    "    y_bound = y_max // 2\n",
    "    for l in lines:\n",
    "        x, y = l[0]\n",
    "        if y < y_bound:\n",
    "            if x < x_bound:\n",
    "                left_top += 1\n",
    "            elif x > x_bound:\n",
    "                right_top += 1\n",
    "        elif y > y_bound:\n",
    "            if x < x_bound:\n",
    "                left_bottom += 1\n",
    "            elif x > x_bound:\n",
    "                right_bottom += 1\n",
    "    return left_top * left_bottom * right_top * right_bottom\n",
    "\n",
    "\n",
    "print(quadrant_check())"
   ]
  },
  {
   "cell_type": "code",
   "execution_count": 26,
   "metadata": {},
   "outputs": [],
   "source": [
    "x_max = 101\n",
    "y_max = 103\n",
    "with open(\"input.txt\") as f:\n",
    "    lines = [line.strip().split(\" \") for line in f.readlines()]\n",
    "    for l in lines:\n",
    "        l[0] = l[0][2:].split(\",\")\n",
    "        l[1] = l[1][2:].split(\",\")\n",
    "        l[0][0] = (int(l[0][0]))\n",
    "        l[0][1] = (int(l[0][1]))\n",
    "        l[1][0] = (int(l[1][0]))\n",
    "        l[1][1] = (int(l[1][1]))"
   ]
  }
 ],
 "metadata": {
  "kernelspec": {
   "display_name": "utils",
   "language": "python",
   "name": "python3"
  },
  "language_info": {
   "codemirror_mode": {
    "name": "ipython",
    "version": 3
   },
   "file_extension": ".py",
   "mimetype": "text/x-python",
   "name": "python",
   "nbconvert_exporter": "python",
   "pygments_lexer": "ipython3",
   "version": "3.13.0"
  }
 },
 "nbformat": 4,
 "nbformat_minor": 2
}
